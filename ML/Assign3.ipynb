{
 "cells": [
  {
   "cell_type": "code",
   "execution_count": 1,
   "id": "66e5ddf3-e191-47a6-9153-9b6d92265b21",
   "metadata": {},
   "outputs": [],
   "source": [
    "import numpy as np\n",
    "import matplotlib.pyplot as plt"
   ]
  },
  {
   "cell_type": "code",
   "execution_count": 2,
   "id": "b10cc46d-3f79-4f3b-b91b-253f2c2c90c5",
   "metadata": {},
   "outputs": [],
   "source": [
    "def fun(x):\n",
    "    return (x+3)**2"
   ]
  },
  {
   "cell_type": "code",
   "execution_count": 3,
   "id": "17ec95f5-f92b-463f-9867-cf76ae649bc6",
   "metadata": {},
   "outputs": [],
   "source": [
    "def gradient(x):\n",
    "    return 2*(x+3)"
   ]
  },
  {
   "cell_type": "code",
   "execution_count": 7,
   "id": "a9561a5e-b461-4a46-98ba-5ce3b934a385",
   "metadata": {},
   "outputs": [],
   "source": [
    "X_value = []\n",
    "Y_value = []\n",
    "def gradientDescent(startingPoint, learningRate, iterations):\n",
    "    x = startingPoint\n",
    "    for i in range(iterations):\n",
    "        X_value.append(x)\n",
    "        Y_value.append(fun(x))\n",
    "        grad = gradient(x)\n",
    "        x = x - learningRate * grad\n",
    "        print(f\"The Value of x is {x} and value of y {fun(x)}\")\n",
    "    return x"
   ]
  },
  {
   "cell_type": "code",
   "execution_count": 8,
   "id": "d64af1b3-6912-4d85-971f-a4bcbf8f9d86",
   "metadata": {},
   "outputs": [],
   "source": [
    "startingPoint = 2\n",
    "learningRate = 0.1\n",
    "iterations = 100"
   ]
  },
  {
   "cell_type": "code",
   "execution_count": 9,
   "id": "773bb373-8d23-4e7a-87bd-1794d50cf577",
   "metadata": {},
   "outputs": [
    {
     "name": "stdout",
     "output_type": "stream",
     "text": [
      "The Value of x is 1.0 and value of y 16.0\n",
      "The Value of x is 0.19999999999999996 and value of y 10.240000000000002\n",
      "The Value of x is -0.44000000000000017 and value of y 6.553599999999998\n",
      "The Value of x is -0.9520000000000001 and value of y 4.194304\n",
      "The Value of x is -1.3616000000000001 and value of y 2.6843545599999996\n",
      "The Value of x is -1.6892800000000001 and value of y 1.7179869183999996\n",
      "The Value of x is -1.951424 and value of y 1.099511627776\n",
      "The Value of x is -2.1611392 and value of y 0.7036874417766399\n",
      "The Value of x is -2.32891136 and value of y 0.4503599627370493\n",
      "The Value of x is -2.463129088 and value of y 0.28823037615171165\n",
      "The Value of x is -2.5705032704 and value of y 0.1844674407370954\n",
      "The Value of x is -2.6564026163200003 and value of y 0.11805916207174093\n",
      "The Value of x is -2.725122093056 and value of y 0.07555786372591429\n",
      "The Value of x is -2.7800976744448 and value of y 0.04835703278458515\n",
      "The Value of x is -2.82407813955584 and value of y 0.030948500982134555\n",
      "The Value of x is -2.8592625116446717 and value of y 0.019807040628566166\n",
      "The Value of x is -2.8874100093157375 and value of y 0.012676506002282305\n",
      "The Value of x is -2.90992800745259 and value of y 0.008112963841460692\n",
      "The Value of x is -2.927942405962072 and value of y 0.005192296858534868\n",
      "The Value of x is -2.9423539247696575 and value of y 0.0033230699894623056\n",
      "The Value of x is -2.953883139815726 and value of y 0.002126764793255884\n",
      "The Value of x is -2.9631065118525806 and value of y 0.0013611294676837786\n",
      "The Value of x is -2.9704852094820646 and value of y 0.0008711228593176078\n",
      "The Value of x is -2.9763881675856516 and value of y 0.0005575186299632732\n",
      "The Value of x is -2.981110534068521 and value of y 0.00035681192317650156\n",
      "The Value of x is -2.984888427254817 and value of y 0.00022835963083295564\n",
      "The Value of x is -2.9879107418038537 and value of y 0.00014615016373308945\n",
      "The Value of x is -2.990328593443083 and value of y 9.353610478917726e-05\n",
      "The Value of x is -2.9922628747544664 and value of y 5.986310706507345e-05\n",
      "The Value of x is -2.993810299803573 and value of y 3.83123885216492e-05\n",
      "The Value of x is -2.995048239842858 and value of y 2.451992865385725e-05\n",
      "The Value of x is -2.9960385918742864 and value of y 1.5692754338469342e-05\n",
      "The Value of x is -2.9968308734994293 and value of y 1.0043362776619253e-05\n",
      "The Value of x is -2.9974646987995435 and value of y 6.427752177036323e-06\n",
      "The Value of x is -2.997971759039635 and value of y 4.113761393302886e-06\n",
      "The Value of x is -2.998377407231708 and value of y 2.6328072917135587e-06\n",
      "The Value of x is -2.998701925785366 and value of y 1.6849966666971388e-06\n",
      "The Value of x is -2.998961540628293 and value of y 1.0783978666865378e-06\n",
      "The Value of x is -2.9991692325026342 and value of y 6.901746346793842e-07\n",
      "The Value of x is -2.9993353860021075 and value of y 4.417117661946878e-07\n",
      "The Value of x is -2.999468308801686 and value of y 2.826955303647891e-07\n",
      "The Value of x is -2.9995746470413485 and value of y 1.8092513943361614e-07\n",
      "The Value of x is -2.9996597176330786 and value of y 1.1579208923763523e-07\n",
      "The Value of x is -2.999727774106463 and value of y 7.410693711203819e-08\n",
      "The Value of x is -2.99978221928517 and value of y 4.7428439751781807e-08\n",
      "The Value of x is -2.9998257754281363 and value of y 3.035420144107846e-08\n",
      "The Value of x is -2.999860620342509 and value of y 1.9426688922339734e-08\n",
      "The Value of x is -2.999888496274007 and value of y 1.243308091029743e-08\n",
      "The Value of x is -2.9999107970192056 and value of y 7.9571717826062e-09\n",
      "The Value of x is -2.9999286376153647 and value of y 5.092589940842615e-09\n",
      "The Value of x is -2.9999429100922916 and value of y 3.259257562149415e-09\n",
      "The Value of x is -2.999954328073833 and value of y 2.0859248397837384e-09\n",
      "The Value of x is -2.9999634624590668 and value of y 1.3349918974486118e-09\n",
      "The Value of x is -2.9999707699672533 and value of y 8.543948143723039e-10\n",
      "The Value of x is -2.999976615973803 and value of y 5.468126811899669e-10\n",
      "The Value of x is -2.9999812927790424 and value of y 3.499601159582557e-10\n",
      "The Value of x is -2.9999850342232337 and value of y 2.2397447421860056e-10\n",
      "The Value of x is -2.999988027378587 and value of y 1.433436634977776e-10\n",
      "The Value of x is -2.9999904219028695 and value of y 9.173994464198049e-11\n",
      "The Value of x is -2.9999923375222957 and value of y 5.871356456950638e-11\n",
      "The Value of x is -2.9999938700178364 and value of y 3.757668132666189e-11\n",
      "The Value of x is -2.999995096014269 and value of y 2.4049076048192486e-11\n",
      "The Value of x is -2.9999960768114153 and value of y 1.5391408670843192e-11\n",
      "The Value of x is -2.9999968614491324 and value of y 9.850501548782124e-12\n",
      "The Value of x is -2.999997489159306 and value of y 6.3043209907745444e-12\n",
      "The Value of x is -2.9999979913274446 and value of y 4.034765434809332e-12\n",
      "The Value of x is -2.9999983930619556 and value of y 2.5822498785634223e-12\n",
      "The Value of x is -2.9999987144495646 and value of y 1.6526399220522305e-12\n",
      "The Value of x is -2.9999989715596516 and value of y 1.0576895502961154e-12\n",
      "The Value of x is -2.9999991772477212 and value of y 6.769213121895138e-13\n",
      "The Value of x is -2.999999341798177 and value of y 4.3322963956744853e-13\n",
      "The Value of x is -2.9999994734385416 and value of y 2.7726696951023927e-13\n",
      "The Value of x is -2.9999995787508333 and value of y 1.7745086041172427e-13\n",
      "The Value of x is -2.9999996630006667 and value of y 1.1356855066350352e-13\n",
      "The Value of x is -2.9999997304005332 and value of y 7.268387247253274e-14\n",
      "The Value of x is -2.9999997843204267 and value of y 4.651767834410857e-14\n",
      "The Value of x is -2.9999998274563415 and value of y 2.977131407892966e-14\n",
      "The Value of x is -2.9999998619650734 and value of y 1.9053640961475125e-14\n",
      "The Value of x is -2.9999998895720585 and value of y 1.2194330254575965e-14\n",
      "The Value of x is -2.999999911657647 and value of y 7.804371331543109e-15\n",
      "The Value of x is -2.9999999293261177 and value of y 4.994797639633387e-15\n",
      "The Value of x is -2.999999943460894 and value of y 3.1966704893653676e-15\n",
      "The Value of x is -2.9999999547687155 and value of y 2.045869097124455e-15\n",
      "The Value of x is -2.9999999638149726 and value of y 1.309356209304147e-15\n",
      "The Value of x is -2.9999999710519782 and value of y 8.379879636702507e-16\n",
      "The Value of x is -2.9999999768415826 and value of y 5.363122967489605e-16\n",
      "The Value of x is -2.999999981473266 and value of y 3.432398699193347e-16\n",
      "The Value of x is -2.9999999851786128 and value of y 2.1967351938118145e-16\n",
      "The Value of x is -2.99999998814289 and value of y 1.4059105661644777e-16\n",
      "The Value of x is -2.999999990514312 and value of y 8.997827286453327e-17\n",
      "The Value of x is -2.9999999924114498 and value of y 5.758609463330129e-17\n",
      "The Value of x is -2.9999999939291597 and value of y 3.685510164371068e-17\n",
      "The Value of x is -2.9999999951433276 and value of y 2.358726677741145e-17\n",
      "The Value of x is -2.999999996114662 and value of y 1.5095850047368678e-17\n",
      "The Value of x is -2.99999999689173 and value of y 9.661342926036557e-18\n",
      "The Value of x is -2.9999999975133838 and value of y 6.18326035608692e-18\n",
      "The Value of x is -2.999999998010707 and value of y 3.957287334634505e-18\n",
      "The Value of x is -2.9999999984085655 and value of y 2.532663894166083e-18\n",
      "The Value of x is -2.999999998726852 and value of y 1.6209053445792253e-18\n",
      "The Value of x is -2.999999998981482 and value of y 1.0373792396055266e-18\n",
      "The Local Minima is  -2.999999998981482\n"
     ]
    }
   ],
   "source": [
    "localMinima = gradientDescent(startingPoint, learningRate, iterations)\n",
    "print(\"The Local Minima is \", localMinima)"
   ]
  },
  {
   "cell_type": "code",
   "execution_count": 10,
   "id": "b592b714-1c7d-49a9-bfc2-98530339a800",
   "metadata": {},
   "outputs": [
    {
     "data": {
      "text/plain": [
       "[<matplotlib.lines.Line2D at 0x224c92f4fd0>]"
      ]
     },
     "execution_count": 10,
     "metadata": {},
     "output_type": "execute_result"
    },
    {
     "data": {
      "image/png": "[encoded data removed]",
      "text/plain": [
       "<Figure size 640x480 with 1 Axes>"
      ]
     },
     "metadata": {},
     "output_type": "display_data"
    }
   ],
   "source": [
    "plt.plot(X_value, Y_value, 'ro-')"
   ]
  },
  {
   "cell_type": "code",
   "execution_count": null,
   "id": "f1529614-af28-4b6f-aa5d-ce24d2e059fe",
   "metadata": {},
   "outputs": [],
   "source": []
  }
 ],
 "metadata": {
  "kernelspec": {
   "display_name": "Python 3 (ipykernel)",
   "language": "python",
   "name": "python3"
  },
  "language_info": {
   "codemirror_mode": {
    "name": "ipython",
    "version": 3
   },
   "file_extension": ".py",
   "mimetype": "text/x-python",
   "name": "python",
   "nbconvert_exporter": "python",
   "pygments_lexer": "ipython3",
   "version": "3.11.1"
  }
 },
 "nbformat": 4,
 "nbformat_minor": 5
}
