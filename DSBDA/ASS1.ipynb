{
 "cells": [
  {
   "cell_type": "code",
   "execution_count": 1,
   "id": "f2e039b2-4333-46b8-b61e-945afeb8946f",
   "metadata": {},
   "outputs": [],
   "source": [
    "# Perform the following operations using Python on any open source dataset (e.g., data.csv)\n",
    "# 1.Import all the required Python Libraries.\n",
    "# 2.Locate open source data from the web (e.g. https://www.kaggle.com).\n",
    "# Provide a clear description of the data and its source (i.e., URL of the web site).\n",
    "# 3. Load the Dataset into the pandas data frame.\n",
    "# 4. Data Preprocessing: check for missing values in the data using pandas insult(),\n",
    "# describe() function to get some initial statistics. Provide variable descriptions. Types of\n",
    "# variables\n",
    "# etc. Check the dimensions of the data frame.\n",
    "# 5. Data Formatting and Data Normalization: Summarize the types of variables by\n",
    "# checking the data types (i.e., character, numeric, integer, factor, and logical) of the\n",
    "# variables in the data set. If variables are not in the correct data type, apply proper type\n",
    "# conversions.\n",
    "# 6. Turn categorical variables into quantitative variables in Python.\n",
    "# In addition to the codes and outputs, explain every operation that you do in the above steps\n",
    "# and explain everything that you do to import/read/scrape the data set."
   ]
  },
  {
   "cell_type": "code",
   "execution_count": 8,
   "id": "1e00c7de-8ec4-42c9-84be-06c269a6b496",
   "metadata": {},
   "outputs": [],
   "source": [
    "import pandas as pd\n",
    "import numpy as np\n",
    "import seaborn as sns\n",
    "from sklearn.preprocessing import LabelEncoder"
   ]
  },
  {
   "cell_type": "code",
   "execution_count": 3,
   "id": "dbf6c164-436e-4122-a4bc-17976fb579a8",
   "metadata": {},
   "outputs": [
    {
     "data": {
      "text/html": [
       "<div>\n",
       "<style scoped>\n",
       "    .dataframe tbody tr th:only-of-type {\n",
       "        vertical-align: middle;\n",
       "    }\n",
       "\n",
       "    .dataframe tbody tr th {\n",
       "        vertical-align: top;\n",
       "    }\n",
       "\n",
       "    .dataframe thead th {\n",
       "        text-align: right;\n",
       "    }\n",
       "</style>\n",
       "<table border=\"1\" class=\"dataframe\">\n",
       "  <thead>\n",
       "    <tr style=\"text-align: right;\">\n",
       "      <th></th>\n",
       "      <th>Hours Studied</th>\n",
       "      <th>Previous Scores</th>\n",
       "      <th>Extracurricular Activities</th>\n",
       "      <th>Sleep Hours</th>\n",
       "      <th>Sample Question Papers Practiced</th>\n",
       "      <th>Performance Index</th>\n",
       "    </tr>\n",
       "  </thead>\n",
       "  <tbody>\n",
       "    <tr>\n",
       "      <th>0</th>\n",
       "      <td>7</td>\n",
       "      <td>99</td>\n",
       "      <td>Yes</td>\n",
       "      <td>9</td>\n",
       "      <td>1</td>\n",
       "      <td>91.0</td>\n",
       "    </tr>\n",
       "    <tr>\n",
       "      <th>1</th>\n",
       "      <td>4</td>\n",
       "      <td>82</td>\n",
       "      <td>No</td>\n",
       "      <td>4</td>\n",
       "      <td>2</td>\n",
       "      <td>65.0</td>\n",
       "    </tr>\n",
       "    <tr>\n",
       "      <th>2</th>\n",
       "      <td>8</td>\n",
       "      <td>51</td>\n",
       "      <td>Yes</td>\n",
       "      <td>7</td>\n",
       "      <td>2</td>\n",
       "      <td>45.0</td>\n",
       "    </tr>\n",
       "    <tr>\n",
       "      <th>3</th>\n",
       "      <td>5</td>\n",
       "      <td>52</td>\n",
       "      <td>Yes</td>\n",
       "      <td>5</td>\n",
       "      <td>2</td>\n",
       "      <td>36.0</td>\n",
       "    </tr>\n",
       "    <tr>\n",
       "      <th>4</th>\n",
       "      <td>7</td>\n",
       "      <td>75</td>\n",
       "      <td>No</td>\n",
       "      <td>8</td>\n",
       "      <td>5</td>\n",
       "      <td>66.0</td>\n",
       "    </tr>\n",
       "    <tr>\n",
       "      <th>...</th>\n",
       "      <td>...</td>\n",
       "      <td>...</td>\n",
       "      <td>...</td>\n",
       "      <td>...</td>\n",
       "      <td>...</td>\n",
       "      <td>...</td>\n",
       "    </tr>\n",
       "    <tr>\n",
       "      <th>9995</th>\n",
       "      <td>1</td>\n",
       "      <td>49</td>\n",
       "      <td>Yes</td>\n",
       "      <td>4</td>\n",
       "      <td>2</td>\n",
       "      <td>23.0</td>\n",
       "    </tr>\n",
       "    <tr>\n",
       "      <th>9996</th>\n",
       "      <td>7</td>\n",
       "      <td>64</td>\n",
       "      <td>Yes</td>\n",
       "      <td>8</td>\n",
       "      <td>5</td>\n",
       "      <td>58.0</td>\n",
       "    </tr>\n",
       "    <tr>\n",
       "      <th>9997</th>\n",
       "      <td>6</td>\n",
       "      <td>83</td>\n",
       "      <td>Yes</td>\n",
       "      <td>8</td>\n",
       "      <td>5</td>\n",
       "      <td>74.0</td>\n",
       "    </tr>\n",
       "    <tr>\n",
       "      <th>9998</th>\n",
       "      <td>9</td>\n",
       "      <td>97</td>\n",
       "      <td>Yes</td>\n",
       "      <td>7</td>\n",
       "      <td>0</td>\n",
       "      <td>95.0</td>\n",
       "    </tr>\n",
       "    <tr>\n",
       "      <th>9999</th>\n",
       "      <td>7</td>\n",
       "      <td>74</td>\n",
       "      <td>No</td>\n",
       "      <td>8</td>\n",
       "      <td>1</td>\n",
       "      <td>64.0</td>\n",
       "    </tr>\n",
       "  </tbody>\n",
       "</table>\n",
       "<p>10000 rows × 6 columns</p>\n",
       "</div>"
      ],
      "text/plain": [
       "      Hours Studied  Previous Scores Extracurricular Activities  Sleep Hours  \\\n",
       "0                 7               99                        Yes            9   \n",
       "1                 4               82                         No            4   \n",
       "2                 8               51                        Yes            7   \n",
       "3                 5               52                        Yes            5   \n",
       "4                 7               75                         No            8   \n",
       "...             ...              ...                        ...          ...   \n",
       "9995              1               49                        Yes            4   \n",
       "9996              7               64                        Yes            8   \n",
       "9997              6               83                        Yes            8   \n",
       "9998              9               97                        Yes            7   \n",
       "9999              7               74                         No            8   \n",
       "\n",
       "      Sample Question Papers Practiced  Performance Index  \n",
       "0                                    1               91.0  \n",
       "1                                    2               65.0  \n",
       "2                                    2               45.0  \n",
       "3                                    2               36.0  \n",
       "4                                    5               66.0  \n",
       "...                                ...                ...  \n",
       "9995                                 2               23.0  \n",
       "9996                                 5               58.0  \n",
       "9997                                 5               74.0  \n",
       "9998                                 0               95.0  \n",
       "9999                                 1               64.0  \n",
       "\n",
       "[10000 rows x 6 columns]"
      ]
     },
     "execution_count": 3,
     "metadata": {},
     "output_type": "execute_result"
    }
   ],
   "source": [
    "data = pd.read_csv(r\"Dataset\\Student_Performance.csv\")\n",
    "data"
   ]
  },
  {
   "cell_type": "code",
   "execution_count": 4,
   "id": "6a61b456-e0ad-436b-acca-8a7da4be9313",
   "metadata": {},
   "outputs": [
    {
     "data": {
      "text/plain": [
       "Hours Studied                       0\n",
       "Previous Scores                     0\n",
       "Extracurricular Activities          0\n",
       "Sleep Hours                         0\n",
       "Sample Question Papers Practiced    0\n",
       "Performance Index                   0\n",
       "dtype: int64"
      ]
     },
     "execution_count": 4,
     "metadata": {},
     "output_type": "execute_result"
    }
   ],
   "source": [
    "data.isnull().sum()"
   ]
  },
  {
   "cell_type": "code",
   "execution_count": 5,
   "id": "90acb36c-d1ac-4be9-9dd6-9c98d4c5df3a",
   "metadata": {},
   "outputs": [
    {
     "data": {
      "text/html": [
       "<div>\n",
       "<style scoped>\n",
       "    .dataframe tbody tr th:only-of-type {\n",
       "        vertical-align: middle;\n",
       "    }\n",
       "\n",
       "    .dataframe tbody tr th {\n",
       "        vertical-align: top;\n",
       "    }\n",
       "\n",
       "    .dataframe thead th {\n",
       "        text-align: right;\n",
       "    }\n",
       "</style>\n",
       "<table border=\"1\" class=\"dataframe\">\n",
       "  <thead>\n",
       "    <tr style=\"text-align: right;\">\n",
       "      <th></th>\n",
       "      <th>Hours Studied</th>\n",
       "      <th>Previous Scores</th>\n",
       "      <th>Sleep Hours</th>\n",
       "      <th>Sample Question Papers Practiced</th>\n",
       "      <th>Performance Index</th>\n",
       "    </tr>\n",
       "  </thead>\n",
       "  <tbody>\n",
       "    <tr>\n",
       "      <th>count</th>\n",
       "      <td>10000.000000</td>\n",
       "      <td>10000.000000</td>\n",
       "      <td>10000.000000</td>\n",
       "      <td>10000.000000</td>\n",
       "      <td>10000.000000</td>\n",
       "    </tr>\n",
       "    <tr>\n",
       "      <th>mean</th>\n",
       "      <td>4.992900</td>\n",
       "      <td>69.445700</td>\n",
       "      <td>6.530600</td>\n",
       "      <td>4.583300</td>\n",
       "      <td>55.224800</td>\n",
       "    </tr>\n",
       "    <tr>\n",
       "      <th>std</th>\n",
       "      <td>2.589309</td>\n",
       "      <td>17.343152</td>\n",
       "      <td>1.695863</td>\n",
       "      <td>2.867348</td>\n",
       "      <td>19.212558</td>\n",
       "    </tr>\n",
       "    <tr>\n",
       "      <th>min</th>\n",
       "      <td>1.000000</td>\n",
       "      <td>40.000000</td>\n",
       "      <td>4.000000</td>\n",
       "      <td>0.000000</td>\n",
       "      <td>10.000000</td>\n",
       "    </tr>\n",
       "    <tr>\n",
       "      <th>25%</th>\n",
       "      <td>3.000000</td>\n",
       "      <td>54.000000</td>\n",
       "      <td>5.000000</td>\n",
       "      <td>2.000000</td>\n",
       "      <td>40.000000</td>\n",
       "    </tr>\n",
       "    <tr>\n",
       "      <th>50%</th>\n",
       "      <td>5.000000</td>\n",
       "      <td>69.000000</td>\n",
       "      <td>7.000000</td>\n",
       "      <td>5.000000</td>\n",
       "      <td>55.000000</td>\n",
       "    </tr>\n",
       "    <tr>\n",
       "      <th>75%</th>\n",
       "      <td>7.000000</td>\n",
       "      <td>85.000000</td>\n",
       "      <td>8.000000</td>\n",
       "      <td>7.000000</td>\n",
       "      <td>71.000000</td>\n",
       "    </tr>\n",
       "    <tr>\n",
       "      <th>max</th>\n",
       "      <td>9.000000</td>\n",
       "      <td>99.000000</td>\n",
       "      <td>9.000000</td>\n",
       "      <td>9.000000</td>\n",
       "      <td>100.000000</td>\n",
       "    </tr>\n",
       "  </tbody>\n",
       "</table>\n",
       "</div>"
      ],
      "text/plain": [
       "       Hours Studied  Previous Scores   Sleep Hours  \\\n",
       "count   10000.000000     10000.000000  10000.000000   \n",
       "mean        4.992900        69.445700      6.530600   \n",
       "std         2.589309        17.343152      1.695863   \n",
       "min         1.000000        40.000000      4.000000   \n",
       "25%         3.000000        54.000000      5.000000   \n",
       "50%         5.000000        69.000000      7.000000   \n",
       "75%         7.000000        85.000000      8.000000   \n",
       "max         9.000000        99.000000      9.000000   \n",
       "\n",
       "       Sample Question Papers Practiced  Performance Index  \n",
       "count                      10000.000000       10000.000000  \n",
       "mean                           4.583300          55.224800  \n",
       "std                            2.867348          19.212558  \n",
       "min                            0.000000          10.000000  \n",
       "25%                            2.000000          40.000000  \n",
       "50%                            5.000000          55.000000  \n",
       "75%                            7.000000          71.000000  \n",
       "max                            9.000000         100.000000  "
      ]
     },
     "execution_count": 5,
     "metadata": {},
     "output_type": "execute_result"
    }
   ],
   "source": [
    "data.describe()"
   ]
  },
  {
   "cell_type": "code",
   "execution_count": 6,
   "id": "1d7b53f0-46fe-4ed5-974a-366d7f19952e",
   "metadata": {},
   "outputs": [
    {
     "name": "stdout",
     "output_type": "stream",
     "text": [
      "<class 'pandas.core.frame.DataFrame'>\n",
      "RangeIndex: 10000 entries, 0 to 9999\n",
      "Data columns (total 6 columns):\n",
      " #   Column                            Non-Null Count  Dtype  \n",
      "---  ------                            --------------  -----  \n",
      " 0   Hours Studied                     10000 non-null  int64  \n",
      " 1   Previous Scores                   10000 non-null  int64  \n",
      " 2   Extracurricular Activities        10000 non-null  object \n",
      " 3   Sleep Hours                       10000 non-null  int64  \n",
      " 4   Sample Question Papers Practiced  10000 non-null  int64  \n",
      " 5   Performance Index                 10000 non-null  float64\n",
      "dtypes: float64(1), int64(4), object(1)\n",
      "memory usage: 468.9+ KB\n"
     ]
    }
   ],
   "source": [
    "data.info()"
   ]
  },
  {
   "cell_type": "code",
   "execution_count": 9,
   "id": "e28d6ec7-5415-47e3-8da2-8bf794c07927",
   "metadata": {},
   "outputs": [],
   "source": [
    "Encode = LabelEncoder()\n",
    "data[\"Extracurricular Activities\"] = Encode.fit_transform(data[\"Extracurricular Activities\"])"
   ]
  },
  {
   "cell_type": "code",
   "execution_count": 10,
   "id": "c092d839-8a1c-4457-a20a-7d7d6c1779f8",
   "metadata": {},
   "outputs": [
    {
     "name": "stdout",
     "output_type": "stream",
     "text": [
      "<class 'pandas.core.frame.DataFrame'>\n",
      "RangeIndex: 10000 entries, 0 to 9999\n",
      "Data columns (total 6 columns):\n",
      " #   Column                            Non-Null Count  Dtype  \n",
      "---  ------                            --------------  -----  \n",
      " 0   Hours Studied                     10000 non-null  int64  \n",
      " 1   Previous Scores                   10000 non-null  int64  \n",
      " 2   Extracurricular Activities        10000 non-null  int32  \n",
      " 3   Sleep Hours                       10000 non-null  int64  \n",
      " 4   Sample Question Papers Practiced  10000 non-null  int64  \n",
      " 5   Performance Index                 10000 non-null  float64\n",
      "dtypes: float64(1), int32(1), int64(4)\n",
      "memory usage: 429.8 KB\n"
     ]
    }
   ],
   "source": [
    "data.info()"
   ]
  },
  {
   "cell_type": "code",
   "execution_count": 11,
   "id": "2342647d-84af-4df3-9962-35d80492c50a",
   "metadata": {},
   "outputs": [
    {
     "data": {
      "text/plain": [
       "(10000, 6)"
      ]
     },
     "execution_count": 11,
     "metadata": {},
     "output_type": "execute_result"
    }
   ],
   "source": [
    "data.shape"
   ]
  },
  {
   "cell_type": "code",
   "execution_count": 12,
   "id": "16ec4d4f-81f7-4d6c-b51f-770abfe017bf",
   "metadata": {},
   "outputs": [
    {
     "data": {
      "text/plain": [
       "60000"
      ]
     },
     "execution_count": 12,
     "metadata": {},
     "output_type": "execute_result"
    }
   ],
   "source": [
    "data.size"
   ]
  },
  {
   "cell_type": "code",
   "execution_count": 16,
   "id": "9a5ae024-a537-4494-a364-3b4e57c326a3",
   "metadata": {},
   "outputs": [
    {
     "data": {
      "text/plain": [
       "dtype('int64')"
      ]
     },
     "execution_count": 16,
     "metadata": {},
     "output_type": "execute_result"
    }
   ],
   "source": [
    "data[\"Hours Studied\"].dtype"
   ]
  },
  {
   "cell_type": "code",
   "execution_count": null,
   "id": "a56e1dc5-ed2f-4984-a2c6-6935b2168de5",
   "metadata": {},
   "outputs": [],
   "source": []
  }
 ],
 "metadata": {
  "kernelspec": {
   "display_name": "Python 3 (ipykernel)",
   "language": "python",
   "name": "python3"
  },
  "language_info": {
   "codemirror_mode": {
    "name": "ipython",
    "version": 3
   },
   "file_extension": ".py",
   "mimetype": "text/x-python",
   "name": "python",
   "nbconvert_exporter": "python",
   "pygments_lexer": "ipython3",
   "version": "3.11.1"
  }
 },
 "nbformat": 4,
 "nbformat_minor": 5
}
