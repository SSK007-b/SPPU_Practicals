{
 "cells": [
  {
   "cell_type": "code",
   "execution_count": 1,
   "id": "dcac27eb-d9b9-4f6a-a188-eea5915c630f",
   "metadata": {},
   "outputs": [],
   "source": [
    "# 1. Extract Sample document and apply following document preprocessing methods:Tokenization, POS Tagging, stop words removal, Stemming and Lemmatization.\n",
    "# 2. Create representation of document by calculating Term Frequency and Inverse Document Frequency."
   ]
  },
  {
   "cell_type": "code",
   "execution_count": 13,
   "id": "d23f5dad-d017-4700-ac52-a775935c5ccb",
   "metadata": {},
   "outputs": [
    {
     "name": "stderr",
     "output_type": "stream",
     "text": [
      "[nltk_data] Downloading package punkt to\n",
      "[nltk_data]     C:\\Users\\dell\\AppData\\Roaming\\nltk_data...\n",
      "[nltk_data]   Package punkt is already up-to-date!\n",
      "[nltk_data] Downloading package wordnet to\n",
      "[nltk_data]     C:\\Users\\dell\\AppData\\Roaming\\nltk_data...\n",
      "[nltk_data]   Package wordnet is already up-to-date!\n",
      "[nltk_data] Downloading package stopwords to\n",
      "[nltk_data]     C:\\Users\\dell\\AppData\\Roaming\\nltk_data...\n",
      "[nltk_data]   Package stopwords is already up-to-date!\n"
     ]
    },
    {
     "data": {
      "text/plain": [
       "True"
      ]
     },
     "execution_count": 13,
     "metadata": {},
     "output_type": "execute_result"
    }
   ],
   "source": [
    "import nltk\n",
    "nltk.download(\"punkt\")\n",
    "nltk.download(\"wordnet\")\n",
    "nltk.download(\"stopwords\")"
   ]
  },
  {
   "cell_type": "code",
   "execution_count": 27,
   "id": "5403f25a-a667-40ca-85a3-89873e878238",
   "metadata": {},
   "outputs": [],
   "source": [
    "from nltk import word_tokenize, sent_tokenize\n",
    "from nltk.stem import PorterStemmer, WordNetLemmatizer\n",
    "from sklearn.feature_extraction.text import TfidfVectorizer\n",
    "from nltk.corpus import stopwords\n",
    "from nltk.tag import pos_tag"
   ]
  },
  {
   "cell_type": "code",
   "execution_count": 15,
   "id": "2e344b20-44b1-4d47-b8b6-df839ff06bfa",
   "metadata": {},
   "outputs": [],
   "source": [
    "file = open(\"Dataset\\input.txt\", 'r')\n",
    "corpus = \"\"\n",
    "for lines in file:\n",
    "    corpus += lines"
   ]
  },
  {
   "cell_type": "code",
   "execution_count": 16,
   "id": "17457a10-a6bc-4449-ae0a-06856329fed7",
   "metadata": {},
   "outputs": [
    {
     "name": "stdout",
     "output_type": "stream",
     "text": [
      "['Virtualization', 'revolutionized', 'computing', 'by', 'enabling', 'multiple', 'operating', 'systems', 'and', 'applications', 'to', 'run', 'on', 'a', 'single', 'physical', 'server', ',', 'maximizing', 'resource', 'utilization', '.', 'It', 'enhances', 'scalability', ',', 'flexibility', ',', 'and', 'cost-efficiency', 'in', 'IT', 'infrastructures', '.', 'By', 'abstracting', 'hardware', ',', 'virtualization', 'facilitates', 'seamless', 'migration', ',', 'backup', ',', 'and', 'recovery', 'processes', '.', 'It', \"'s\", 'a', 'cornerstone', 'of', 'modern', 'cloud', 'computing', 'and', 'data', 'center', 'management', '.']\n"
     ]
    }
   ],
   "source": [
    "print(word_tokenize(corpus))"
   ]
  },
  {
   "cell_type": "code",
   "execution_count": 17,
   "id": "fe7079d4-1775-463d-a045-8bf197ec50ba",
   "metadata": {},
   "outputs": [
    {
     "name": "stdout",
     "output_type": "stream",
     "text": [
      "[('Virtualization', 'NNP'), ('revolutionized', 'VBD'), ('computing', 'VBG'), ('by', 'IN'), ('enabling', 'VBG'), ('multiple', 'JJ'), ('operating', 'VBG'), ('systems', 'NNS'), ('and', 'CC'), ('applications', 'NNS'), ('to', 'TO'), ('run', 'VB'), ('on', 'IN'), ('a', 'DT'), ('single', 'JJ'), ('physical', 'JJ'), ('server', 'NN'), (',', ','), ('maximizing', 'VBG'), ('resource', 'NN'), ('utilization', 'NN'), ('.', '.'), ('It', 'PRP'), ('enhances', 'VBZ'), ('scalability', 'NN'), (',', ','), ('flexibility', 'NN'), (',', ','), ('and', 'CC'), ('cost-efficiency', 'NN'), ('in', 'IN'), ('IT', 'NNP'), ('infrastructures', 'VBZ'), ('.', '.'), ('By', 'IN'), ('abstracting', 'VBG'), ('hardware', 'NN'), (',', ','), ('virtualization', 'NN'), ('facilitates', 'NNS'), ('seamless', 'JJ'), ('migration', 'NN'), (',', ','), ('backup', 'NN'), (',', ','), ('and', 'CC'), ('recovery', 'NN'), ('processes', 'NNS'), ('.', '.'), ('It', 'PRP'), (\"'s\", 'VBZ'), ('a', 'DT'), ('cornerstone', 'NN'), ('of', 'IN'), ('modern', 'JJ'), ('cloud', 'NN'), ('computing', 'NN'), ('and', 'CC'), ('data', 'NNS'), ('center', 'NN'), ('management', 'NN'), ('.', '.')]\n"
     ]
    }
   ],
   "source": [
    "print(pos_tag(word_tokenize(corpus)))"
   ]
  },
  {
   "cell_type": "code",
   "execution_count": 18,
   "id": "d46d73b4-df9a-4844-a81a-95bd62da51b8",
   "metadata": {},
   "outputs": [
    {
     "name": "stdout",
     "output_type": "stream",
     "text": [
      "['\\nVirtualization revolutionized computing by enabling multiple operating systems and applications to run on a single physical server, maximizing resource utilization.', 'It enhances scalability, flexibility, and cost-efficiency in IT infrastructures.', 'By abstracting hardware, virtualization facilitates seamless migration, backup, and recovery processes.', \"It's a cornerstone of modern cloud computing and data center management.\"]\n"
     ]
    }
   ],
   "source": [
    "print(sent_tokenize(corpus))"
   ]
  },
  {
   "cell_type": "code",
   "execution_count": 19,
   "id": "63e67e10-ced3-49f0-82c6-2b8b254e67f2",
   "metadata": {},
   "outputs": [],
   "source": [
    "stopwords = set(stopwords.words(\"english\"))"
   ]
  },
  {
   "cell_type": "code",
   "execution_count": 20,
   "id": "133e2e0e-9846-4ef7-be0b-a3cb78cdad63",
   "metadata": {},
   "outputs": [
    {
     "name": "stdout",
     "output_type": "stream",
     "text": [
      "['Virtualization', 'revolutionized', 'computing', 'enabling', 'multiple', 'operating', 'systems', 'applications', 'run', 'single', 'physical', 'server', ',', 'maximizing', 'resource', 'utilization', '.', 'It', 'enhances', 'scalability', ',', 'flexibility', ',', 'cost-efficiency', 'IT', 'infrastructures', '.', 'By', 'abstracting', 'hardware', ',', 'virtualization', 'facilitates', 'seamless', 'migration', ',', 'backup', ',', 'recovery', 'processes', '.', 'It', \"'s\", 'cornerstone', 'modern', 'cloud', 'computing', 'data', 'center', 'management', '.']\n"
     ]
    }
   ],
   "source": [
    "clean_data = []\n",
    "for token in word_tokenize(corpus):\n",
    "    if token not in stopwords:\n",
    "        clean_data.append(token)\n",
    "print(clean_data)"
   ]
  },
  {
   "cell_type": "code",
   "execution_count": 21,
   "id": "73aae8b2-6696-481b-8bc9-f7d408e03edc",
   "metadata": {},
   "outputs": [
    {
     "name": "stdout",
     "output_type": "stream",
     "text": [
      "['virtual', 'revolution', 'comput', 'enabl', 'multipl', 'oper', 'system', 'applic', 'run', 'singl', 'physic', 'server', ',', 'maxim', 'resourc', 'util', '.', 'it', 'enhanc', 'scalabl', ',', 'flexibl', ',', 'cost-effici', 'it', 'infrastructur', '.', 'by', 'abstract', 'hardwar', ',', 'virtual', 'facilit', 'seamless', 'migrat', ',', 'backup', ',', 'recoveri', 'process', '.', 'it', \"'s\", 'cornerston', 'modern', 'cloud', 'comput', 'data', 'center', 'manag', '.']\n"
     ]
    }
   ],
   "source": [
    "stemmer = PorterStemmer()\n",
    "New_data = []\n",
    "for token in clean_data:\n",
    "    stemmed = stemmer.stem(token)\n",
    "    New_data.append(stemmed)\n",
    "print(New_data)"
   ]
  },
  {
   "cell_type": "code",
   "execution_count": 22,
   "id": "3ef5cdf5-0402-4238-bf67-dc3eedbb28a0",
   "metadata": {},
   "outputs": [
    {
     "name": "stdout",
     "output_type": "stream",
     "text": [
      "['Virtualization', 'revolutionized', 'computing', 'enabling', 'multiple', 'operating', 'system', 'application', 'run', 'single', 'physical', 'server', ',', 'maximizing', 'resource', 'utilization', '.', 'It', 'enhances', 'scalability', ',', 'flexibility', ',', 'cost-efficiency', 'IT', 'infrastructure', '.', 'By', 'abstracting', 'hardware', ',', 'virtualization', 'facilitates', 'seamless', 'migration', ',', 'backup', ',', 'recovery', 'process', '.', 'It', \"'s\", 'cornerstone', 'modern', 'cloud', 'computing', 'data', 'center', 'management', '.']\n"
     ]
    }
   ],
   "source": [
    "lemmatizer = WordNetLemmatizer()\n",
    "New_data = []\n",
    "for token in clean_data:\n",
    "    lemmatize = lemmatizer.lemmatize(token)\n",
    "    New_data.append(lemmatize)\n",
    "print(New_data)"
   ]
  },
  {
   "cell_type": "code",
   "execution_count": 24,
   "id": "5efaa172-f316-4f40-899f-3bec2bad71ce",
   "metadata": {},
   "outputs": [
    {
     "name": "stdout",
     "output_type": "stream",
     "text": [
      "['\\nVirtualization revolutionized computing by enabling multiple operating systems and applications to run on a single physical server, maximizing resource utilization.', 'It enhances scalability, flexibility, and cost-efficiency in IT infrastructures.', 'By abstracting hardware, virtualization facilitates seamless migration, backup, and recovery processes.', \"It's a cornerstone of modern cloud computing and data center management.\"]\n"
     ]
    }
   ],
   "source": [
    "new_corpus = sent_tokenize(corpus)\n",
    "print(new_corpus)"
   ]
  },
  {
   "cell_type": "code",
   "execution_count": 29,
   "id": "199676ee-fa36-44dc-be95-1d3264cba86d",
   "metadata": {},
   "outputs": [
    {
     "data": {
      "text/plain": [
       "{'virtualization': 41,\n",
       " 'revolutionized': 32,\n",
       " 'computing': 7,\n",
       " 'by': 4,\n",
       " 'enabling': 12,\n",
       " 'multiple': 24,\n",
       " 'operating': 27,\n",
       " 'systems': 38,\n",
       " 'and': 1,\n",
       " 'applications': 2,\n",
       " 'to': 39,\n",
       " 'run': 33,\n",
       " 'on': 26,\n",
       " 'single': 37,\n",
       " 'physical': 28,\n",
       " 'server': 36,\n",
       " 'maximizing': 21,\n",
       " 'resource': 31,\n",
       " 'utilization': 40,\n",
       " 'it': 19,\n",
       " 'enhances': 13,\n",
       " 'scalability': 34,\n",
       " 'flexibility': 15,\n",
       " 'cost': 9,\n",
       " 'efficiency': 11,\n",
       " 'in': 17,\n",
       " 'infrastructures': 18,\n",
       " 'abstracting': 0,\n",
       " 'hardware': 16,\n",
       " 'facilitates': 14,\n",
       " 'seamless': 35,\n",
       " 'migration': 22,\n",
       " 'backup': 3,\n",
       " 'recovery': 30,\n",
       " 'processes': 29,\n",
       " 'cornerstone': 8,\n",
       " 'of': 25,\n",
       " 'modern': 23,\n",
       " 'cloud': 6,\n",
       " 'data': 10,\n",
       " 'center': 5,\n",
       " 'management': 20}"
      ]
     },
     "execution_count": 29,
     "metadata": {},
     "output_type": "execute_result"
    }
   ],
   "source": [
    "vectorizer = TfidfVectorizer()\n",
    "matriz = vectorizer.fit(new_corpus)\n",
    "matriz.vocabulary_"
   ]
  },
  {
   "cell_type": "code",
   "execution_count": 30,
   "id": "08e82bca-882b-484d-bc0e-14ce2412548d",
   "metadata": {},
   "outputs": [
    {
     "name": "stdout",
     "output_type": "stream",
     "text": [
      "  (0, 41)\t0.1904514664407104\n",
      "  (0, 40)\t0.24156353603697095\n",
      "  (0, 39)\t0.24156353603697095\n",
      "  (0, 38)\t0.24156353603697095\n",
      "  (0, 37)\t0.24156353603697095\n",
      "  (0, 36)\t0.24156353603697095\n",
      "  (0, 33)\t0.24156353603697095\n",
      "  (0, 32)\t0.24156353603697095\n",
      "  (0, 31)\t0.24156353603697095\n",
      "  (0, 28)\t0.24156353603697095\n",
      "  (0, 27)\t0.24156353603697095\n",
      "  (0, 26)\t0.24156353603697095\n",
      "  (0, 24)\t0.24156353603697095\n",
      "  (0, 21)\t0.24156353603697095\n",
      "  (0, 12)\t0.24156353603697095\n",
      "  (0, 7)\t0.1904514664407104\n",
      "  (0, 4)\t0.1904514664407104\n",
      "  (0, 2)\t0.24156353603697095\n",
      "  (0, 1)\t0.12605787421448256\n",
      "  (1, 34)\t0.3201136963752417\n",
      "  (1, 19)\t0.5047626301768519\n",
      "  (1, 18)\t0.3201136963752417\n",
      "  (1, 17)\t0.3201136963752417\n",
      "  (1, 15)\t0.3201136963752417\n",
      "  (1, 13)\t0.3201136963752417\n",
      "  (1, 11)\t0.3201136963752417\n",
      "  (1, 9)\t0.3201136963752417\n",
      "  (1, 1)\t0.1670486064826743\n",
      "  (2, 41)\t0.255585991926846\n",
      "  (2, 35)\t0.32417842259348545\n",
      "  (2, 30)\t0.32417842259348545\n",
      "  (2, 29)\t0.32417842259348545\n",
      "  (2, 22)\t0.32417842259348545\n",
      "  (2, 16)\t0.32417842259348545\n",
      "  (2, 14)\t0.32417842259348545\n",
      "  (2, 4)\t0.255585991926846\n",
      "  (2, 3)\t0.32417842259348545\n",
      "  (2, 1)\t0.16916974924594824\n",
      "  (2, 0)\t0.32417842259348545\n",
      "  (3, 25)\t0.342684786605553\n",
      "  (3, 23)\t0.342684786605553\n",
      "  (3, 20)\t0.342684786605553\n",
      "  (3, 19)\t0.2701766218803851\n",
      "  (3, 10)\t0.342684786605553\n",
      "  (3, 8)\t0.342684786605553\n",
      "  (3, 7)\t0.2701766218803851\n",
      "  (3, 6)\t0.342684786605553\n",
      "  (3, 5)\t0.342684786605553\n",
      "  (3, 1)\t0.17882713771224223\n"
     ]
    }
   ],
   "source": [
    "tfidf_matrix = vectorizer.transform(new_corpus)\n",
    "print(tfidf_matrix)"
   ]
  },
  {
   "cell_type": "code",
   "execution_count": 32,
   "id": "668fb684-59ba-4cc6-9eb3-82b7f6a28f92",
   "metadata": {},
   "outputs": [
    {
     "name": "stdout",
     "output_type": "stream",
     "text": [
      "['abstracting' 'and' 'applications' 'backup' 'by' 'center' 'cloud'\n",
      " 'computing' 'cornerstone' 'cost' 'data' 'efficiency' 'enabling'\n",
      " 'enhances' 'facilitates' 'flexibility' 'hardware' 'in' 'infrastructures'\n",
      " 'it' 'management' 'maximizing' 'migration' 'modern' 'multiple' 'of' 'on'\n",
      " 'operating' 'physical' 'processes' 'recovery' 'resource' 'revolutionized'\n",
      " 'run' 'scalability' 'seamless' 'server' 'single' 'systems' 'to'\n",
      " 'utilization' 'virtualization']\n"
     ]
    }
   ],
   "source": [
    "print(vectorizer.get_feature_names_out())"
   ]
  },
  {
   "cell_type": "code",
   "execution_count": null,
   "id": "8c21fbe9-9d55-460e-800b-76eda019e004",
   "metadata": {},
   "outputs": [],
   "source": []
  }
 ],
 "metadata": {
  "kernelspec": {
   "display_name": "Python 3 (ipykernel)",
   "language": "python",
   "name": "python3"
  },
  "language_info": {
   "codemirror_mode": {
    "name": "ipython",
    "version": 3
   },
   "file_extension": ".py",
   "mimetype": "text/x-python",
   "name": "python",
   "nbconvert_exporter": "python",
   "pygments_lexer": "ipython3",
   "version": "3.11.1"
  }
 },
 "nbformat": 4,
 "nbformat_minor": 5
}
